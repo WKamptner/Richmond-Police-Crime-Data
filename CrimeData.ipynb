{
 "cells": [
  {
   "cell_type": "code",
   "execution_count": 1,
   "metadata": {},
   "outputs": [],
   "source": [
    "import os\n",
    "import pandas as pd\n",
    "import numpy as nm\n",
    "import seaborn as sns"
   ]
  },
  {
   "cell_type": "code",
   "execution_count": 3,
   "metadata": {},
   "outputs": [],
   "source": [
    "df = pd.read_csv('calls.csv')"
   ]
  },
  {
   "cell_type": "code",
   "execution_count": 4,
   "metadata": {},
   "outputs": [
    {
     "name": "stdout",
     "output_type": "stream",
     "text": [
      "<class 'pandas.core.frame.DataFrame'>\n",
      "RangeIndex: 77794 entries, 0 to 77793\n",
      "Data columns (total 8 columns):\n",
      " #   Column        Non-Null Count  Dtype \n",
      "---  ------        --------------  ----- \n",
      " 0   _id           77794 non-null  object\n",
      " 1   agency        77794 non-null  object\n",
      " 2   coords        74394 non-null  object\n",
      " 3   district      77794 non-null  object\n",
      " 4   incident      77794 non-null  object\n",
      " 5   location      77794 non-null  object\n",
      " 6   status        77794 non-null  object\n",
      " 7   timeReceived  77794 non-null  object\n",
      "dtypes: object(8)\n",
      "memory usage: 4.7+ MB\n"
     ]
    }
   ],
   "source": [
    "df.info()"
   ]
  },
  {
   "cell_type": "code",
   "execution_count": 5,
   "metadata": {},
   "outputs": [
    {
     "data": {
      "text/html": [
       "<div>\n",
       "<style scoped>\n",
       "    .dataframe tbody tr th:only-of-type {\n",
       "        vertical-align: middle;\n",
       "    }\n",
       "\n",
       "    .dataframe tbody tr th {\n",
       "        vertical-align: top;\n",
       "    }\n",
       "\n",
       "    .dataframe thead th {\n",
       "        text-align: right;\n",
       "    }\n",
       "</style>\n",
       "<table border=\"1\" class=\"dataframe\">\n",
       "  <thead>\n",
       "    <tr style=\"text-align: right;\">\n",
       "      <th></th>\n",
       "      <th>_id</th>\n",
       "      <th>agency</th>\n",
       "      <th>coords</th>\n",
       "      <th>district</th>\n",
       "      <th>incident</th>\n",
       "      <th>location</th>\n",
       "      <th>status</th>\n",
       "      <th>timeReceived</th>\n",
       "    </tr>\n",
       "  </thead>\n",
       "  <tbody>\n",
       "    <tr>\n",
       "      <th>0</th>\n",
       "      <td>0411a692604fc30d2b7e90768bea27cb</td>\n",
       "      <td>RFD</td>\n",
       "      <td>[37.52257549999999,-77.48004999999999]</td>\n",
       "      <td>Richmond</td>\n",
       "      <td># UTILITY INCIDENT , GAS LEAK - RUPTURED MAIN ...</td>\n",
       "      <td>1800-BLK W 45TH ST</td>\n",
       "      <td>Closed</td>\n",
       "      <td>2022-01-28T16:09:00.000Z</td>\n",
       "    </tr>\n",
       "    <tr>\n",
       "      <th>1</th>\n",
       "      <td>a6778ad2a905749daa2d7ba3571b5943</td>\n",
       "      <td>RPD</td>\n",
       "      <td>[37.5469025,-77.542215]</td>\n",
       "      <td>Richmond</td>\n",
       "      <td>BURGLAR ALARM , INVESTIGATE</td>\n",
       "      <td>3700-BLK WAKEFIELD RD</td>\n",
       "      <td>Closed</td>\n",
       "      <td>2022-01-28T16:07:00.000Z</td>\n",
       "    </tr>\n",
       "    <tr>\n",
       "      <th>2</th>\n",
       "      <td>ea9f720bdb4e40f25c6da4978692fd9d</td>\n",
       "      <td>RPD</td>\n",
       "      <td>[37.5473731,-77.4366354]</td>\n",
       "      <td>Richmond</td>\n",
       "      <td>TRAFFIC COMPLAINT , INVESTIGATE</td>\n",
       "      <td>MOSBY ST/E LEIGH ST RICH</td>\n",
       "      <td>Closed</td>\n",
       "      <td>2022-01-28T16:02:00.000Z</td>\n",
       "    </tr>\n",
       "    <tr>\n",
       "      <th>3</th>\n",
       "      <td>d34129688e6724e10872e708e8476b43</td>\n",
       "      <td>RPD</td>\n",
       "      <td>[37.514049,-77.489561]</td>\n",
       "      <td>Richmond</td>\n",
       "      <td>LARCENY , DPR Call - Take a Report</td>\n",
       "      <td>600-BLK WESTOVER HILLS BLVD</td>\n",
       "      <td>Closed</td>\n",
       "      <td>2022-01-28T16:02:00.000Z</td>\n",
       "    </tr>\n",
       "    <tr>\n",
       "      <th>4</th>\n",
       "      <td>7e22a1550c625e11e2c6905b7c1c9f1f</td>\n",
       "      <td>RPD</td>\n",
       "      <td>[37.5773242,-77.4625667]</td>\n",
       "      <td>Richmond</td>\n",
       "      <td>DISORDERLY , NUISANCE</td>\n",
       "      <td>3300-BLK N ARTHUR ASHE BLVD</td>\n",
       "      <td>Closed</td>\n",
       "      <td>2022-01-28T16:00:00.000Z</td>\n",
       "    </tr>\n",
       "  </tbody>\n",
       "</table>\n",
       "</div>"
      ],
      "text/plain": [
       "                                _id agency  \\\n",
       "0  0411a692604fc30d2b7e90768bea27cb    RFD   \n",
       "1  a6778ad2a905749daa2d7ba3571b5943    RPD   \n",
       "2  ea9f720bdb4e40f25c6da4978692fd9d    RPD   \n",
       "3  d34129688e6724e10872e708e8476b43    RPD   \n",
       "4  7e22a1550c625e11e2c6905b7c1c9f1f    RPD   \n",
       "\n",
       "                                   coords  district  \\\n",
       "0  [37.52257549999999,-77.48004999999999]  Richmond   \n",
       "1                 [37.5469025,-77.542215]  Richmond   \n",
       "2                [37.5473731,-77.4366354]  Richmond   \n",
       "3                  [37.514049,-77.489561]  Richmond   \n",
       "4                [37.5773242,-77.4625667]  Richmond   \n",
       "\n",
       "                                            incident  \\\n",
       "0  # UTILITY INCIDENT , GAS LEAK - RUPTURED MAIN ...   \n",
       "1                        BURGLAR ALARM , INVESTIGATE   \n",
       "2                    TRAFFIC COMPLAINT , INVESTIGATE   \n",
       "3                 LARCENY , DPR Call - Take a Report   \n",
       "4                              DISORDERLY , NUISANCE   \n",
       "\n",
       "                      location  status              timeReceived  \n",
       "0           1800-BLK W 45TH ST  Closed  2022-01-28T16:09:00.000Z  \n",
       "1        3700-BLK WAKEFIELD RD  Closed  2022-01-28T16:07:00.000Z  \n",
       "2     MOSBY ST/E LEIGH ST RICH  Closed  2022-01-28T16:02:00.000Z  \n",
       "3  600-BLK WESTOVER HILLS BLVD  Closed  2022-01-28T16:02:00.000Z  \n",
       "4  3300-BLK N ARTHUR ASHE BLVD  Closed  2022-01-28T16:00:00.000Z  "
      ]
     },
     "execution_count": 5,
     "metadata": {},
     "output_type": "execute_result"
    }
   ],
   "source": [
    "df.head()"
   ]
  },
  {
   "cell_type": "code",
   "execution_count": 9,
   "metadata": {},
   "outputs": [],
   "source": [
    "# split X and Y coords by splitting\n",
    "df[['X','Y']] = df['coords'].str.split(',', expand=True)"
   ]
  },
  {
   "cell_type": "code",
   "execution_count": 16,
   "metadata": {},
   "outputs": [],
   "source": [
    "# Strip the square brackets from our X and Y coord columns\n",
    "df['X']=df['X'].str.replace('[','')\n",
    "df['Y']=df['Y'].str.replace(']','')"
   ]
  },
  {
   "cell_type": "code",
   "execution_count": 20,
   "metadata": {},
   "outputs": [
    {
     "data": {
      "text/plain": [
       "array(['RFD', 'RPD', 'CCPD', 'HCPD', 'CCFD', 'DPW'], dtype=object)"
      ]
     },
     "execution_count": 20,
     "metadata": {},
     "output_type": "execute_result"
    }
   ],
   "source": [
    "# start breaking down our columns into unique values\n",
    "pd.unique(df['agency'])"
   ]
  },
  {
   "cell_type": "markdown",
   "metadata": {},
   "source": [
    "#### 'RFD' - Richmond Fire Department\n",
    "#### 'RPD' - Richmond Police Department\n",
    "#### 'CCPD' - Chesterfield County Police Department\n",
    "#### 'HCPD' - Henrico County Police Department\n",
    "#### 'CCFD' - Chesterfield County Fire Department\n",
    "#### 'DPW' - Department of Public Works"
   ]
  },
  {
   "cell_type": "code",
   "execution_count": 27,
   "metadata": {},
   "outputs": [
    {
     "data": {
      "text/html": [
       "<div>\n",
       "<style scoped>\n",
       "    .dataframe tbody tr th:only-of-type {\n",
       "        vertical-align: middle;\n",
       "    }\n",
       "\n",
       "    .dataframe tbody tr th {\n",
       "        vertical-align: top;\n",
       "    }\n",
       "\n",
       "    .dataframe thead th {\n",
       "        text-align: right;\n",
       "    }\n",
       "</style>\n",
       "<table border=\"1\" class=\"dataframe\">\n",
       "  <thead>\n",
       "    <tr style=\"text-align: right;\">\n",
       "      <th></th>\n",
       "      <th>_id</th>\n",
       "      <th>coords</th>\n",
       "      <th>district</th>\n",
       "      <th>incident</th>\n",
       "      <th>location</th>\n",
       "      <th>status</th>\n",
       "      <th>timeReceived</th>\n",
       "      <th>X</th>\n",
       "      <th>Y</th>\n",
       "    </tr>\n",
       "    <tr>\n",
       "      <th>agency</th>\n",
       "      <th></th>\n",
       "      <th></th>\n",
       "      <th></th>\n",
       "      <th></th>\n",
       "      <th></th>\n",
       "      <th></th>\n",
       "      <th></th>\n",
       "      <th></th>\n",
       "      <th></th>\n",
       "    </tr>\n",
       "  </thead>\n",
       "  <tbody>\n",
       "    <tr>\n",
       "      <th>RPD</th>\n",
       "      <td>34368</td>\n",
       "      <td>32295</td>\n",
       "      <td>34368</td>\n",
       "      <td>34368</td>\n",
       "      <td>34368</td>\n",
       "      <td>34368</td>\n",
       "      <td>34368</td>\n",
       "      <td>32295</td>\n",
       "      <td>32295</td>\n",
       "    </tr>\n",
       "    <tr>\n",
       "      <th>HCPD</th>\n",
       "      <td>15240</td>\n",
       "      <td>14352</td>\n",
       "      <td>15240</td>\n",
       "      <td>15240</td>\n",
       "      <td>15240</td>\n",
       "      <td>15240</td>\n",
       "      <td>15240</td>\n",
       "      <td>14352</td>\n",
       "      <td>14352</td>\n",
       "    </tr>\n",
       "    <tr>\n",
       "      <th>CCPD</th>\n",
       "      <td>13958</td>\n",
       "      <td>13958</td>\n",
       "      <td>13958</td>\n",
       "      <td>13958</td>\n",
       "      <td>13958</td>\n",
       "      <td>13958</td>\n",
       "      <td>13958</td>\n",
       "      <td>13958</td>\n",
       "      <td>13958</td>\n",
       "    </tr>\n",
       "    <tr>\n",
       "      <th>CCFD</th>\n",
       "      <td>7634</td>\n",
       "      <td>7634</td>\n",
       "      <td>7634</td>\n",
       "      <td>7634</td>\n",
       "      <td>7634</td>\n",
       "      <td>7634</td>\n",
       "      <td>7634</td>\n",
       "      <td>7634</td>\n",
       "      <td>7634</td>\n",
       "    </tr>\n",
       "    <tr>\n",
       "      <th>RFD</th>\n",
       "      <td>6582</td>\n",
       "      <td>6143</td>\n",
       "      <td>6582</td>\n",
       "      <td>6582</td>\n",
       "      <td>6582</td>\n",
       "      <td>6582</td>\n",
       "      <td>6582</td>\n",
       "      <td>6143</td>\n",
       "      <td>6143</td>\n",
       "    </tr>\n",
       "    <tr>\n",
       "      <th>DPW</th>\n",
       "      <td>12</td>\n",
       "      <td>12</td>\n",
       "      <td>12</td>\n",
       "      <td>12</td>\n",
       "      <td>12</td>\n",
       "      <td>12</td>\n",
       "      <td>12</td>\n",
       "      <td>12</td>\n",
       "      <td>12</td>\n",
       "    </tr>\n",
       "  </tbody>\n",
       "</table>\n",
       "</div>"
      ],
      "text/plain": [
       "          _id  coords  district  incident  location  status  timeReceived  \\\n",
       "agency                                                                      \n",
       "RPD     34368   32295     34368     34368     34368   34368         34368   \n",
       "HCPD    15240   14352     15240     15240     15240   15240         15240   \n",
       "CCPD    13958   13958     13958     13958     13958   13958         13958   \n",
       "CCFD     7634    7634      7634      7634      7634    7634          7634   \n",
       "RFD      6582    6143      6582      6582      6582    6582          6582   \n",
       "DPW        12      12        12        12        12      12            12   \n",
       "\n",
       "            X      Y  \n",
       "agency                \n",
       "RPD     32295  32295  \n",
       "HCPD    14352  14352  \n",
       "CCPD    13958  13958  \n",
       "CCFD     7634   7634  \n",
       "RFD      6143   6143  \n",
       "DPW        12     12  "
      ]
     },
     "execution_count": 27,
     "metadata": {},
     "output_type": "execute_result"
    }
   ],
   "source": [
    "# A count of how many calls came for each department\n",
    "df.groupby('agency').count().sort_values(by='_id', ascending=False)"
   ]
  },
  {
   "cell_type": "code",
   "execution_count": null,
   "metadata": {},
   "outputs": [],
   "source": [
    "# Richmond Police department has more than double the next highest called emergency response department"
   ]
  }
 ],
 "metadata": {
  "kernelspec": {
   "display_name": "Python 3",
   "language": "python",
   "name": "python3"
  },
  "language_info": {
   "codemirror_mode": {
    "name": "ipython",
    "version": 3
   },
   "file_extension": ".py",
   "mimetype": "text/x-python",
   "name": "python",
   "nbconvert_exporter": "python",
   "pygments_lexer": "ipython3",
   "version": "3.8.5"
  }
 },
 "nbformat": 4,
 "nbformat_minor": 4
}
